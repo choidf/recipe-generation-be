{
 "cells": [
  {
   "cell_type": "code",
   "execution_count": 4,
   "metadata": {},
   "outputs": [],
   "source": [
    "from ultralytics import YOLO\n",
    "import os\n",
    "import torch\n",
    "\n",
    "def detect_ingredients(image_path):\n",
    "    device = \"\"\n",
    "    if torch.cuda.is_available():\n",
    "        device = \"cuda\"  # Use GPU if available\n",
    "    else:\n",
    "        device = \"cpu\"  # Fallback to CPU\n",
    "    # Load trained model\n",
    "    model = YOLO(\".\\models\\YOLO\\last.pt\").to(device)\n",
    "    # Perform inference\n",
    "    results = model(image_path)\n",
    "    \n",
    "    # Get the image name\n",
    "    image_name = os.path.basename(image_path)\n",
    "\n",
    "    # Extract ingredients and remove item counts\n",
    "    ingredients = []\n",
    "    for result in results:\n",
    "        # Save the image with bounding boxes\n",
    "        result.save(filename=f\"./results/{image_name}\")  # Save the image to the results directory\n",
    "        \n",
    "        result.show()  # display to screen\n",
    "        for *xyxy, conf, cls in result.boxes.data:  # iterate over detections\n",
    "            ingredient_name = model.names[int(cls)]  # get ingredient name from class ID\n",
    "            # Remove any digits and leading/trailing spaces from the ingredient name\n",
    "            ingredient_name = ''.join([i for i in ingredient_name if not i.isdigit()]).strip()\n",
    "            # Only add ingredient if it's not already in the list\n",
    "            if ingredient_name not in ingredients:\n",
    "                ingredients.append(ingredient_name)  # add to ingredients list\n",
    "\n",
    "    # Join ingredients into a string\n",
    "    ingredients_str = ', '.join(ingredients)\n",
    "    ingredients_str = ingredients_str.replace('_', ' ')\n",
    "\n",
    "    return ingredients_str  # return the string of ingredients"
   ]
  },
  {
   "cell_type": "code",
   "execution_count": 5,
   "metadata": {},
   "outputs": [],
   "source": [
    "from transformers import AutoTokenizer, AutoModelForSeq2SeqLM\n",
    "# Function to generate text\n",
    "def generate_text(input_text):\n",
    "    device = \"\"\n",
    "    if torch.cuda.is_available():\n",
    "        device = \"cuda\"  # Use GPU if available\n",
    "    else:\n",
    "        device = \"cpu\"  # Fallback to CPU\n",
    "    # Load trained model and tokenizer\n",
    "    model_path = \".\\models\\T5\"\n",
    "    model_trained = AutoModelForSeq2SeqLM.from_pretrained(model_path).to(device)\n",
    "    tokenizer = AutoTokenizer.from_pretrained(model_path)\n",
    "\n",
    "    inputs = tokenizer(input_text, return_tensors=\"pt\", padding=True).to(device)\n",
    "    outputs = model_trained.generate(**inputs, max_new_tokens=512, num_beams=2, no_repeat_ngram_size=2, repetition_penalty=1.2)  # Adjust as needed\n",
    "\n",
    "    generated_text = tokenizer.decode(outputs[0], skip_special_tokens=True)\n",
    "    return generated_text\n"
   ]
  },
  {
   "cell_type": "code",
   "execution_count": 7,
   "metadata": {},
   "outputs": [],
   "source": [
    "def generate_recipe(ingredients_string):\n",
    "    prompt = f\"Generate recipe from these ingredients: {ingredients_string}\"\n",
    "    generated_text = generate_text(prompt)\n",
    "    print(f\"Prompt: {prompt}\")\n",
    "    print(f\"Generated Recipe: {generated_text}\")"
   ]
  },
  {
   "cell_type": "code",
   "execution_count": 6,
   "metadata": {},
   "outputs": [],
   "source": [
    "image_path = \"images\\DSC_6121_JPG_jpg.rf.b09901df87ee20edf0cf5f758ba7bd78.jpg\""
   ]
  },
  {
   "cell_type": "code",
   "execution_count": 9,
   "metadata": {},
   "outputs": [
    {
     "name": "stdout",
     "output_type": "stream",
     "text": [
      "\n",
      "image 1/1 e:\\Project\\ml-docker-flask-api-main\\app\\images\\DSC_6121_JPG_jpg.rf.b09901df87ee20edf0cf5f758ba7bd78.jpg: 640x448 1 bread, 1 cheese, 1 chicken, 1 chicken_breast, 1 eggs, 1 flour, 1 green_beans, 1 ground_beef, 1 milk, 1 mushrooms, 1 potato, 1 shrimp, 1 spinach, 1 tomato, 100.0ms\n",
      "Speed: 0.0ms preprocess, 100.0ms inference, 231.7ms postprocess per image at shape (1, 3, 640, 448)\n"
     ]
    },
    {
     "name": "stderr",
     "output_type": "stream",
     "text": [
      "You set `add_prefix_space`. The tokenizer needs to be converted from the slow tokenizers\n"
     ]
    },
    {
     "name": "stdout",
     "output_type": "stream",
     "text": [
      "Prompt: Generate recipe from these ingredients: spinach, bread, ground beef, chicken, green beans, chicken breast, mushrooms, flour, milk, cheese, eggs, potato, shrimp, tomato\n",
      "Generated Recipe: Title: Spinach And Chicken Soup Ingredients: spinach, bread, ground beef, chicken, green beans, poultry breast, mushrooms, flour, milk, cheese, eggs, potato, shrimp, tomato Instructions ['Preheat oven to 350 degrees F.', 'In a large bowl, combine the spinach and bread; stir in the flour and milk. Add the eggs and cook until smooth. Stir in potatoes and mushrooms. Cook for 1 hour. Remove from heat and set aside. Serve with tomato sauce. Sprinkle with salt and pepper. Cover and refrigerate for 10 minutes. Bake at 350° for 30 minutes or until golden brown. Cool for 5 minutes before serving. Let cool completely. Transfer to 375°F (180 degrees C).']\n"
     ]
    }
   ],
   "source": [
    "ingredients = detect_ingredients(image_path)\n",
    "# print(ingredients)\n",
    "generate_recipe(ingredients)"
   ]
  },
  {
   "cell_type": "code",
   "execution_count": null,
   "metadata": {},
   "outputs": [
    {
     "name": "stdout",
     "output_type": "stream",
     "text": [
      "<Response [200]>\n"
     ]
    }
   ],
   "source": [
    "\n",
    "import requests\n",
    "\n",
    "url = 'http://localhost:8000/predict'\n",
    "files = {'file': open('DSC_6121_JPG_jpg.rf.b09901df87ee20edf0cf5f758ba7bd78.jpg', 'rb')}  # Specify the file you want to upload\n",
    "\n",
    "response = requests.post(url, files=files)\n",
    "print(response.content)"
   ]
  },
  {
   "cell_type": "code",
   "execution_count": 3,
   "metadata": {},
   "outputs": [
    {
     "name": "stdout",
     "output_type": "stream",
     "text": [
      "b'{\"predicted_ingredients\":\"spinach, bread, ground beef, chicken, green beans, chicken breast, mushrooms, flour, milk, cheese, eggs, potato, shrimp, tomato\",\"generated_recipe\":\"Title: Spinach And Chicken Soup Ingredients: spinach, bread, ground beef, chicken, green beans, poultry breast, mushrooms, flour, milk, cheese, eggs, potato, shrimp, tomato Instructions [\\'Preheat oven to 350 degrees F.\\', \\'In a large bowl, combine the spinach and bread; stir in the flour and milk. Add the eggs and cook until smooth. Stir in potatoes and mushrooms. Cook for 1 hour. Remove from heat and set aside. Serve with tomato sauce. Sprinkle with salt and pepper. Cover and refrigerate for 10 minutes. Bake at 350\\xc2\\xb0 for 30 minutes or until golden brown. Cool for 5 minutes before serving. Let cool completely. Transfer to 375\\xc2\\xb0F (180 degrees C).\\']\"}'\n"
     ]
    }
   ],
   "source": [
    "print(response.content)"
   ]
  },
  {
   "cell_type": "code",
   "execution_count": null,
   "metadata": {},
   "outputs": [],
   "source": []
  }
 ],
 "metadata": {
  "kernelspec": {
   "display_name": "base",
   "language": "python",
   "name": "python3"
  },
  "language_info": {
   "codemirror_mode": {
    "name": "ipython",
    "version": 3
   },
   "file_extension": ".py",
   "mimetype": "text/x-python",
   "name": "python",
   "nbconvert_exporter": "python",
   "pygments_lexer": "ipython3",
   "version": "3.9.16"
  }
 },
 "nbformat": 4,
 "nbformat_minor": 2
}
